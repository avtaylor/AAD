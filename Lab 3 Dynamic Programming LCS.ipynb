{
 "cells": [
  {
   "cell_type": "code",
   "execution_count": 5,
   "metadata": {},
   "outputs": [],
   "source": [
    "def lcs_rec(a, b):\n",
    "    \"\"\"\n",
    "    >>> lcs_rec('thisisatest', 'testing123testing')\n",
    "    'tsitest'\n",
    "    \"\"\"\n",
    "    if not a or not b:\n",
    "        return \"\"\n",
    "    x, xs, y, ys = a[0], a[1:], b[0], a[1:]\n",
    "    if x == y:\n",
    "        return x + lcs_rec(xs, ys)\n",
    "    else:\n",
    "        return max(lcs_rec(a, ys), lcs_rec(xs, b), key=len)"
   ]
  },
  {
   "cell_type": "code",
   "execution_count": null,
   "metadata": {
    "collapsed": true
   },
   "outputs": [],
   "source": []
  },
  {
   "cell_type": "code",
   "execution_count": 6,
   "metadata": {},
   "outputs": [
    {
     "name": "stdout",
     "output_type": "stream",
     "text": [
      "thisisatest\n"
     ]
    }
   ],
   "source": [
    "a=lcs_rec('thisisatest', 'testing123testing')\n",
    "print(a)"
   ]
  },
  {
   "cell_type": "code",
   "execution_count": null,
   "metadata": {
    "collapsed": true
   },
   "outputs": [],
   "source": []
  }
 ],
 "metadata": {
  "kernelspec": {
   "display_name": "Python 3",
   "language": "python",
   "name": "python3"
  },
  "language_info": {
   "codemirror_mode": {
    "name": "ipython",
    "version": 3
   },
   "file_extension": ".py",
   "mimetype": "text/x-python",
   "name": "python",
   "nbconvert_exporter": "python",
   "pygments_lexer": "ipython3",
   "version": "3.6.7"
  }
 },
 "nbformat": 4,
 "nbformat_minor": 2
}
