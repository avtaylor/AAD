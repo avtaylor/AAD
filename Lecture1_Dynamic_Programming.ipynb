{
 "cells": [
  {
   "cell_type": "code",
   "execution_count": 1,
   "metadata": {
    "collapsed": true
   },
   "outputs": [],
   "source": [
    "t=1"
   ]
  },
  {
   "cell_type": "code",
   "execution_count": 2,
   "metadata": {},
   "outputs": [
    {
     "data": {
      "text/plain": [
       "1"
      ]
     },
     "execution_count": 2,
     "metadata": {},
     "output_type": "execute_result"
    }
   ],
   "source": [
    "t"
   ]
  },
  {
   "cell_type": "code",
   "execution_count": 21,
   "metadata": {},
   "outputs": [],
   "source": [
    "def dp_fib(n):\n",
    "    fib={}\n",
    "    for k in range(n):\n",
    "        if k<=2:\n",
    "            f=1\n",
    "        else:\n",
    "            f=fib[k-1]+fib[k-2]\n",
    "        fib[k]=f\n",
    "    return fib[n-1]"
   ]
  },
  {
   "cell_type": "code",
   "execution_count": 22,
   "metadata": {},
   "outputs": [
    {
     "name": "stdout",
     "output_type": "stream",
     "text": [
      "218922995834555169026\n"
     ]
    }
   ],
   "source": [
    "f=dp_fib(100)\n",
    "print(f)"
   ]
  },
  {
   "cell_type": "code",
   "execution_count": 2,
   "metadata": {},
   "outputs": [],
   "source": [
    "def LCS(X,Y):\n",
    "    n,m=len(X),len(Y)\n",
    "    L=[[0]*(m+1) for k in range(n+1)]\n",
    "    for j in range(n):\n",
    "        for k in range(m):\n",
    "            if X[j] == Y[k]:\n",
    "                L[j+1][k+1]=L[j][k]+1\n",
    "            else:\n",
    "                L[j+1][k+1]= max(L[j][k+1],L[j+1][k])\n",
    "    return L"
   ]
  },
  {
   "cell_type": "code",
   "execution_count": 26,
   "metadata": {},
   "outputs": [],
   "source": [
    "X=list(\"CGATAATTGAGA\")\n",
    "Y=list(\"GTTCCTAATA\")"
   ]
  },
  {
   "cell_type": "code",
   "execution_count": 27,
   "metadata": {},
   "outputs": [
    {
     "data": {
      "text/plain": [
       "['C', 'G', 'A', 'T', 'A', 'A', 'T', 'T', 'G', 'A', 'G', 'A']"
      ]
     },
     "execution_count": 27,
     "metadata": {},
     "output_type": "execute_result"
    }
   ],
   "source": [
    "X"
   ]
  },
  {
   "cell_type": "code",
   "execution_count": 28,
   "metadata": {
    "collapsed": true
   },
   "outputs": [],
   "source": [
    "a=LCS(X,Y)"
   ]
  },
  {
   "cell_type": "code",
   "execution_count": 34,
   "metadata": {},
   "outputs": [
    {
     "name": "stdout",
     "output_type": "stream",
     "text": [
      "[[0, 0, 0, 0, 0, 0, 0, 0, 0, 0, 0], [0, 0, 0, 0, 1, 1, 1, 1, 1, 1, 1], [0, 1, 1, 1, 1, 1, 1, 1, 1, 1, 1], [0, 1, 1, 1, 1, 1, 1, 2, 2, 2, 2], [0, 1, 2, 2, 2, 2, 2, 2, 2, 3, 3], [0, 1, 2, 2, 2, 2, 2, 3, 3, 3, 4], [0, 1, 2, 2, 2, 2, 2, 3, 4, 4, 4], [0, 1, 2, 3, 3, 3, 3, 3, 4, 5, 5], [0, 1, 2, 3, 3, 3, 4, 4, 4, 5, 5], [0, 1, 2, 3, 3, 3, 4, 4, 4, 5, 5], [0, 1, 2, 3, 3, 3, 4, 5, 5, 5, 6], [0, 1, 2, 3, 3, 3, 4, 5, 5, 5, 6], [0, 1, 2, 3, 3, 3, 4, 5, 6, 6, 6]]\n",
      "13\n"
     ]
    }
   ],
   "source": [
    "print(a)\n",
    "print(len(a))"
   ]
  },
  {
   "cell_type": "code",
   "execution_count": 1,
   "metadata": {},
   "outputs": [],
   "source": [
    "def longest_substring(S):\n",
    "    maxims={}\n",
    "    next={}\n",
    "    n=len(S)\n",
    "  \n",
    "    maxims[n-1]=1\n",
    "    next[n-1]=-1\n",
    "    for i in range(n-2,-1,-1):\n",
    "        maxims[i]=1\n",
    "        next[i]=-1\n",
    "        \n",
    "        for j in range(i+1,n):\n",
    "            if (S[i] <= S[j]) and (maxims[i] <= maxims[j]):\n",
    "                maxims[i]=maxims[j]+1\n",
    "                next[i]=j\n",
    "                \n",
    "                \n",
    "     #printing section           \n",
    "    print(maxims.values())\n",
    "    mx=max(maxims.values())\n",
    "    print(mx, ' ',next[n-mx-1])\n",
    "    print(next)\n",
    "    k=1\n",
    "    while (next[k] > -1):\n",
    "        print(S[k])\n",
    "        k=next[k]\n",
    "    print(S[k])\n",
    "    "
   ]
  },
  {
   "cell_type": "code",
   "execution_count": 168,
   "metadata": {},
   "outputs": [
    {
     "name": "stdout",
     "output_type": "stream",
     "text": [
      "2\n",
      "3\n",
      "4\n",
      "5\n",
      "6\n",
      "7\n",
      "42\n",
      "14\n",
      "dict_values([1, 2, 1, 1, 3, 2, 3, 1, 2, 4, 5, 3, 6, 3])\n",
      "6   8\n",
      "{13: -1, 12: 13, 11: -1, 10: -1, 9: 12, 8: 10, 7: 8, 6: -1, 5: 6, 4: 7, 3: 4, 2: 5, 1: 3, 0: 5}\n",
      "1\n",
      "2\n",
      "3\n",
      "32\n",
      "34\n",
      "654\n"
     ]
    }
   ],
   "source": [
    "longest_substring\n",
    "for n in range(2,8):\n",
    "    print(n)\n",
    "\n",
    "S=[77,1,34,2,3,545,5464,32,34,5,654,43,22,42]\n",
    "print(S[13])\n",
    "longest_substring(S)"
   ]
  },
  {
   "cell_type": "code",
   "execution_count": null,
   "metadata": {
    "collapsed": true
   },
   "outputs": [],
   "source": []
  },
  {
   "cell_type": "code",
   "execution_count": null,
   "metadata": {
    "collapsed": true
   },
   "outputs": [],
   "source": []
  }
 ],
 "metadata": {
  "kernelspec": {
   "display_name": "Python 3",
   "language": "python",
   "name": "python3"
  },
  "language_info": {
   "codemirror_mode": {
    "name": "ipython",
    "version": 3
   },
   "file_extension": ".py",
   "mimetype": "text/x-python",
   "name": "python",
   "nbconvert_exporter": "python",
   "pygments_lexer": "ipython3",
   "version": "3.6.7"
  }
 },
 "nbformat": 4,
 "nbformat_minor": 2
}
